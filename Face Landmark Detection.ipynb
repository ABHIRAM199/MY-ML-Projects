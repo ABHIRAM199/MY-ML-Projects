{
 "cells": [
  {
   "cell_type": "code",
   "execution_count": 1,
   "id": "f734fcec",
   "metadata": {},
   "outputs": [],
   "source": [
    "import cv2\n",
    "import mediapipe as mp"
   ]
  },
  {
   "cell_type": "code",
   "execution_count": 2,
   "id": "e83d9eae",
   "metadata": {},
   "outputs": [],
   "source": [
    "mp_drawing = mp.solutions.drawing_utils\n",
    "mp_drawing_styles = mp.solutions.drawing_styles\n",
    "my_drawing_specs =mp_drawing.DrawingSpec(color =(0,255,0),thickness =1) "
   ]
  },
  {
   "cell_type": "code",
   "execution_count": 3,
   "id": "4e3f362a",
   "metadata": {},
   "outputs": [
    {
     "name": "stderr",
     "output_type": "stream",
     "text": [
      "WARNING: All log messages before absl::InitializeLog() is called are written to STDERR\n",
      "I0000 00:00:1732094804.975653  579323 gl_context.cc:357] GL version: 2.1 (2.1 Metal - 89.3), renderer: Apple M1\n",
      "INFO: Created TensorFlow Lite XNNPACK delegate for CPU.\n",
      "W0000 00:00:1732094804.994909  579784 inference_feedback_manager.cc:114] Feedback manager requires a model with a single signature inference. Disabling support for feedback tensors.\n",
      "W0000 00:00:1732094805.000641  579784 inference_feedback_manager.cc:114] Feedback manager requires a model with a single signature inference. Disabling support for feedback tensors.\n",
      "W0000 00:00:1732094805.003977  579786 landmark_projection_calculator.cc:186] Using NORM_RECT without IMAGE_DIMENSIONS is only supported for the square ROI. Provide IMAGE_DIMENSIONS or use PROJECTION_MATRIX.\n",
      "2024-11-20 13:26:45.456 Python[15349:579323] +[IMKClient subclass]: chose IMKClient_Modern\n",
      "2024-11-20 13:26:45.456 Python[15349:579323] +[IMKInputSession subclass]: chose IMKInputSession_Modern\n"
     ]
    },
    {
     "ename": "TypeError",
     "evalue": "'NoneType' object is not iterable",
     "output_type": "error",
     "traceback": [
      "\u001b[0;31m---------------------------------------------------------------------------\u001b[0m",
      "\u001b[0;31mTypeError\u001b[0m                                 Traceback (most recent call last)",
      "Cell \u001b[0;32mIn[3], line 20\u001b[0m\n\u001b[1;32m     16\u001b[0m         \u001b[38;5;28;01mbreak\u001b[39;00m\n\u001b[1;32m     18\u001b[0m     results \u001b[38;5;241m=\u001b[39m face_mesh\u001b[38;5;241m.\u001b[39mprocess(image)\n\u001b[0;32m---> 20\u001b[0m     \u001b[38;5;28;01mfor\u001b[39;00m face_landmarks \u001b[38;5;129;01min\u001b[39;00m results\u001b[38;5;241m.\u001b[39mmulti_face_landmarks:\n\u001b[1;32m     21\u001b[0m         mp_drawing\u001b[38;5;241m.\u001b[39mdraw_landmarks(\n\u001b[1;32m     22\u001b[0m                 image \u001b[38;5;241m=\u001b[39m image,\n\u001b[1;32m     23\u001b[0m                 landmark_list \u001b[38;5;241m=\u001b[39m face_landmarks,\n\u001b[0;32m   (...)\u001b[0m\n\u001b[1;32m     26\u001b[0m                 connection_drawing_spec \u001b[38;5;241m=\u001b[39m mp_drawing_styles\u001b[38;5;241m.\u001b[39mget_default_face_mesh_tesselation_style()\n\u001b[1;32m     27\u001b[0m         )\n\u001b[1;32m     29\u001b[0m         mp_drawing\u001b[38;5;241m.\u001b[39mdraw_landmarks(\n\u001b[1;32m     30\u001b[0m                 image \u001b[38;5;241m=\u001b[39m image,\n\u001b[1;32m     31\u001b[0m                 landmark_list \u001b[38;5;241m=\u001b[39m face_landmarks,\n\u001b[0;32m   (...)\u001b[0m\n\u001b[1;32m     35\u001b[0m \u001b[38;5;66;03m#                .get_default_face_mesh_contours_style()\u001b[39;00m\n\u001b[1;32m     36\u001b[0m         )\n",
      "\u001b[0;31mTypeError\u001b[0m: 'NoneType' object is not iterable"
     ]
    }
   ],
   "source": [
    "cap = cv2.VideoCapture(0)\n",
    "\n",
    "mp_face_mesh = mp.solutions.face_mesh\n",
    "\n",
    "with mp_face_mesh.FaceMesh(\n",
    "    max_num_faces =1,\n",
    "    refine_landmarks =True,\n",
    "    min_detection_confidence = 0.5,\n",
    "    min_tracking_confidence = 0.5\n",
    ") as face_mesh:\n",
    "\n",
    "    while cap.isOpened():\n",
    "        success, image = cap.read()\n",
    "        \n",
    "        if not success:\n",
    "            break\n",
    "        \n",
    "        results = face_mesh.process(image)\n",
    "        \n",
    "        for face_landmarks in results.multi_face_landmarks:\n",
    "            mp_drawing.draw_landmarks(\n",
    "                    image = image,\n",
    "                    landmark_list = face_landmarks,\n",
    "                    connections = mp_face_mesh.FACEMESH_TESSELATION,\n",
    "                    landmark_drawing_spec = None,\n",
    "                    connection_drawing_spec = mp_drawing_styles.get_default_face_mesh_tesselation_style()\n",
    "            )\n",
    "            \n",
    "            mp_drawing.draw_landmarks(\n",
    "                    image = image,\n",
    "                    landmark_list = face_landmarks,\n",
    "                    connections = mp_face_mesh.FACEMESH_CONTOURS,\n",
    "                    landmark_drawing_spec = None,\n",
    "                    connection_drawing_spec = my_drawing_specs\n",
    "    #                .get_default_face_mesh_contours_style()\n",
    "            )\n",
    "\n",
    "        cv2.imshow(\"My video capture\",cv2.flip(image,1))\n",
    "\n",
    "        if cv2.waitKey(100) & 0xFF== ord('q'):\n",
    "            break\n",
    "        \n",
    "cap.release()\n",
    "cv2.destroyAllWindows()"
   ]
  },
  {
   "cell_type": "code",
   "execution_count": null,
   "id": "c1030028",
   "metadata": {},
   "outputs": [],
   "source": []
  }
 ],
 "metadata": {
  "kernelspec": {
   "display_name": "Python 3 (ipykernel)",
   "language": "python",
   "name": "python3"
  },
  "language_info": {
   "codemirror_mode": {
    "name": "ipython",
    "version": 3
   },
   "file_extension": ".py",
   "mimetype": "text/x-python",
   "name": "python",
   "nbconvert_exporter": "python",
   "pygments_lexer": "ipython3",
   "version": "3.11.2"
  }
 },
 "nbformat": 4,
 "nbformat_minor": 5
}
